{
 "cells": [
  {
   "cell_type": "code",
   "execution_count": 37,
   "metadata": {},
   "outputs": [],
   "source": [
    "from sklearn import datasets\n",
    "from sklearn import svm\n",
    "import pandas as pd\n",
    "\n",
    "#ATV 1\n",
    "from sklearn.model_selection import train_test_split\n",
    "from sklearn.metrics import accuracy_score\n",
    "\n",
    "#AV 2\n",
    "from sklearn.model_selection import cross_val_score\n",
    "\n",
    "#ATV 3\n",
    "from sklearn import tree\n",
    "from sklearn.neighbors import NearestCentroid\n",
    "from sklearn.naive_bayes import GaussianNB\n",
    "from scipy.stats import wilcoxon\n",
    "from scipy.stats import friedmanchisquare\n",
    "\n",
    "#ATV 4\n",
    "from sklearn.linear_model import LogisticRegression\n",
    "from sklearn.ensemble import RandomForestClassifier\n",
    "from sklearn.ensemble import VotingClassifier\n"
   ]
  },
  {
   "cell_type": "code",
   "execution_count": 38,
   "metadata": {},
   "outputs": [],
   "source": [
    "dados = pd.read_csv('C:\\\\Users\\\\bruno\\\\IA\\\\data consolidada\\\\water_potability.csv')"
   ]
  },
  {
   "cell_type": "code",
   "execution_count": 39,
   "metadata": {},
   "outputs": [
    {
     "data": {
      "text/html": [
       "<div>\n",
       "<style scoped>\n",
       "    .dataframe tbody tr th:only-of-type {\n",
       "        vertical-align: middle;\n",
       "    }\n",
       "\n",
       "    .dataframe tbody tr th {\n",
       "        vertical-align: top;\n",
       "    }\n",
       "\n",
       "    .dataframe thead th {\n",
       "        text-align: right;\n",
       "    }\n",
       "</style>\n",
       "<table border=\"1\" class=\"dataframe\">\n",
       "  <thead>\n",
       "    <tr style=\"text-align: right;\">\n",
       "      <th></th>\n",
       "      <th>ph</th>\n",
       "      <th>Hardness</th>\n",
       "      <th>Solids</th>\n",
       "      <th>Chloramines</th>\n",
       "      <th>Sulfate</th>\n",
       "      <th>Conductivity</th>\n",
       "      <th>Organic_carbon</th>\n",
       "      <th>Trihalomethanes</th>\n",
       "      <th>Turbidity</th>\n",
       "      <th>Potability</th>\n",
       "    </tr>\n",
       "  </thead>\n",
       "  <tbody>\n",
       "    <tr>\n",
       "      <th>0</th>\n",
       "      <td>NaN</td>\n",
       "      <td>204.890455</td>\n",
       "      <td>20791.318981</td>\n",
       "      <td>7.300212</td>\n",
       "      <td>368.516441</td>\n",
       "      <td>564.308654</td>\n",
       "      <td>10.379783</td>\n",
       "      <td>86.990970</td>\n",
       "      <td>2.963135</td>\n",
       "      <td>0</td>\n",
       "    </tr>\n",
       "    <tr>\n",
       "      <th>1</th>\n",
       "      <td>3.716080</td>\n",
       "      <td>129.422921</td>\n",
       "      <td>18630.057858</td>\n",
       "      <td>6.635246</td>\n",
       "      <td>NaN</td>\n",
       "      <td>592.885359</td>\n",
       "      <td>15.180013</td>\n",
       "      <td>56.329076</td>\n",
       "      <td>4.500656</td>\n",
       "      <td>0</td>\n",
       "    </tr>\n",
       "    <tr>\n",
       "      <th>2</th>\n",
       "      <td>8.099124</td>\n",
       "      <td>224.236259</td>\n",
       "      <td>19909.541732</td>\n",
       "      <td>9.275884</td>\n",
       "      <td>NaN</td>\n",
       "      <td>418.606213</td>\n",
       "      <td>16.868637</td>\n",
       "      <td>66.420093</td>\n",
       "      <td>3.055934</td>\n",
       "      <td>0</td>\n",
       "    </tr>\n",
       "    <tr>\n",
       "      <th>3</th>\n",
       "      <td>8.316766</td>\n",
       "      <td>214.373394</td>\n",
       "      <td>22018.417441</td>\n",
       "      <td>8.059332</td>\n",
       "      <td>356.886136</td>\n",
       "      <td>363.266516</td>\n",
       "      <td>18.436524</td>\n",
       "      <td>100.341674</td>\n",
       "      <td>4.628771</td>\n",
       "      <td>0</td>\n",
       "    </tr>\n",
       "    <tr>\n",
       "      <th>4</th>\n",
       "      <td>9.092223</td>\n",
       "      <td>181.101509</td>\n",
       "      <td>17978.986339</td>\n",
       "      <td>6.546600</td>\n",
       "      <td>310.135738</td>\n",
       "      <td>398.410813</td>\n",
       "      <td>11.558279</td>\n",
       "      <td>31.997993</td>\n",
       "      <td>4.075075</td>\n",
       "      <td>0</td>\n",
       "    </tr>\n",
       "    <tr>\n",
       "      <th>...</th>\n",
       "      <td>...</td>\n",
       "      <td>...</td>\n",
       "      <td>...</td>\n",
       "      <td>...</td>\n",
       "      <td>...</td>\n",
       "      <td>...</td>\n",
       "      <td>...</td>\n",
       "      <td>...</td>\n",
       "      <td>...</td>\n",
       "      <td>...</td>\n",
       "    </tr>\n",
       "    <tr>\n",
       "      <th>3271</th>\n",
       "      <td>4.668102</td>\n",
       "      <td>193.681735</td>\n",
       "      <td>47580.991603</td>\n",
       "      <td>7.166639</td>\n",
       "      <td>359.948574</td>\n",
       "      <td>526.424171</td>\n",
       "      <td>13.894419</td>\n",
       "      <td>66.687695</td>\n",
       "      <td>4.435821</td>\n",
       "      <td>1</td>\n",
       "    </tr>\n",
       "    <tr>\n",
       "      <th>3272</th>\n",
       "      <td>7.808856</td>\n",
       "      <td>193.553212</td>\n",
       "      <td>17329.802160</td>\n",
       "      <td>8.061362</td>\n",
       "      <td>NaN</td>\n",
       "      <td>392.449580</td>\n",
       "      <td>19.903225</td>\n",
       "      <td>NaN</td>\n",
       "      <td>2.798243</td>\n",
       "      <td>1</td>\n",
       "    </tr>\n",
       "    <tr>\n",
       "      <th>3273</th>\n",
       "      <td>9.419510</td>\n",
       "      <td>175.762646</td>\n",
       "      <td>33155.578218</td>\n",
       "      <td>7.350233</td>\n",
       "      <td>NaN</td>\n",
       "      <td>432.044783</td>\n",
       "      <td>11.039070</td>\n",
       "      <td>69.845400</td>\n",
       "      <td>3.298875</td>\n",
       "      <td>1</td>\n",
       "    </tr>\n",
       "    <tr>\n",
       "      <th>3274</th>\n",
       "      <td>5.126763</td>\n",
       "      <td>230.603758</td>\n",
       "      <td>11983.869376</td>\n",
       "      <td>6.303357</td>\n",
       "      <td>NaN</td>\n",
       "      <td>402.883113</td>\n",
       "      <td>11.168946</td>\n",
       "      <td>77.488213</td>\n",
       "      <td>4.708658</td>\n",
       "      <td>1</td>\n",
       "    </tr>\n",
       "    <tr>\n",
       "      <th>3275</th>\n",
       "      <td>7.874671</td>\n",
       "      <td>195.102299</td>\n",
       "      <td>17404.177061</td>\n",
       "      <td>7.509306</td>\n",
       "      <td>NaN</td>\n",
       "      <td>327.459760</td>\n",
       "      <td>16.140368</td>\n",
       "      <td>78.698446</td>\n",
       "      <td>2.309149</td>\n",
       "      <td>1</td>\n",
       "    </tr>\n",
       "  </tbody>\n",
       "</table>\n",
       "<p>3276 rows × 10 columns</p>\n",
       "</div>"
      ],
      "text/plain": [
       "            ph    Hardness        Solids  Chloramines     Sulfate  \\\n",
       "0          NaN  204.890455  20791.318981     7.300212  368.516441   \n",
       "1     3.716080  129.422921  18630.057858     6.635246         NaN   \n",
       "2     8.099124  224.236259  19909.541732     9.275884         NaN   \n",
       "3     8.316766  214.373394  22018.417441     8.059332  356.886136   \n",
       "4     9.092223  181.101509  17978.986339     6.546600  310.135738   \n",
       "...        ...         ...           ...          ...         ...   \n",
       "3271  4.668102  193.681735  47580.991603     7.166639  359.948574   \n",
       "3272  7.808856  193.553212  17329.802160     8.061362         NaN   \n",
       "3273  9.419510  175.762646  33155.578218     7.350233         NaN   \n",
       "3274  5.126763  230.603758  11983.869376     6.303357         NaN   \n",
       "3275  7.874671  195.102299  17404.177061     7.509306         NaN   \n",
       "\n",
       "      Conductivity  Organic_carbon  Trihalomethanes  Turbidity  Potability  \n",
       "0       564.308654       10.379783        86.990970   2.963135           0  \n",
       "1       592.885359       15.180013        56.329076   4.500656           0  \n",
       "2       418.606213       16.868637        66.420093   3.055934           0  \n",
       "3       363.266516       18.436524       100.341674   4.628771           0  \n",
       "4       398.410813       11.558279        31.997993   4.075075           0  \n",
       "...            ...             ...              ...        ...         ...  \n",
       "3271    526.424171       13.894419        66.687695   4.435821           1  \n",
       "3272    392.449580       19.903225              NaN   2.798243           1  \n",
       "3273    432.044783       11.039070        69.845400   3.298875           1  \n",
       "3274    402.883113       11.168946        77.488213   4.708658           1  \n",
       "3275    327.459760       16.140368        78.698446   2.309149           1  \n",
       "\n",
       "[3276 rows x 10 columns]"
      ]
     },
     "execution_count": 39,
     "metadata": {},
     "output_type": "execute_result"
    }
   ],
   "source": [
    "dados"
   ]
  },
  {
   "cell_type": "code",
   "execution_count": 40,
   "metadata": {},
   "outputs": [
    {
     "data": {
      "text/plain": [
       "ph                 float64\n",
       "Hardness           float64\n",
       "Solids             float64\n",
       "Chloramines        float64\n",
       "Sulfate            float64\n",
       "Conductivity       float64\n",
       "Organic_carbon     float64\n",
       "Trihalomethanes    float64\n",
       "Turbidity          float64\n",
       "Potability           int64\n",
       "dtype: object"
      ]
     },
     "execution_count": 40,
     "metadata": {},
     "output_type": "execute_result"
    }
   ],
   "source": [
    "dados.dtypes"
   ]
  },
  {
   "cell_type": "code",
   "execution_count": 41,
   "metadata": {},
   "outputs": [
    {
     "data": {
      "text/plain": [
       "ph                 491\n",
       "Hardness             0\n",
       "Solids               0\n",
       "Chloramines          0\n",
       "Sulfate            781\n",
       "Conductivity         0\n",
       "Organic_carbon       0\n",
       "Trihalomethanes    162\n",
       "Turbidity            0\n",
       "Potability           0\n",
       "dtype: int64"
      ]
     },
     "execution_count": 41,
     "metadata": {},
     "output_type": "execute_result"
    }
   ],
   "source": [
    "dados.isna().sum()"
   ]
  },
  {
   "cell_type": "code",
   "execution_count": 42,
   "metadata": {},
   "outputs": [],
   "source": [
    "dados2 = dados.drop(columns=['ph','Sulfate'])"
   ]
  },
  {
   "cell_type": "code",
   "execution_count": 43,
   "metadata": {},
   "outputs": [],
   "source": [
    "dados2 = dados2.fillna(dados.mean())"
   ]
  },
  {
   "cell_type": "code",
   "execution_count": 44,
   "metadata": {},
   "outputs": [
    {
     "data": {
      "text/plain": [
       "Hardness           0\n",
       "Solids             0\n",
       "Chloramines        0\n",
       "Conductivity       0\n",
       "Organic_carbon     0\n",
       "Trihalomethanes    0\n",
       "Turbidity          0\n",
       "Potability         0\n",
       "dtype: int64"
      ]
     },
     "execution_count": 44,
     "metadata": {},
     "output_type": "execute_result"
    }
   ],
   "source": [
    "dados2.isna().sum()"
   ]
  },
  {
   "cell_type": "code",
   "execution_count": 45,
   "metadata": {},
   "outputs": [],
   "source": [
    "clf_svm = svm.SVC(gamma=0.001, C=100.0)"
   ]
  },
  {
   "cell_type": "code",
   "execution_count": 46,
   "metadata": {},
   "outputs": [],
   "source": [
    "y_svm = dados2['Potability']\n",
    "X_svm = dados2.drop(columns='Potability')"
   ]
  },
  {
   "cell_type": "code",
   "execution_count": 47,
   "metadata": {},
   "outputs": [],
   "source": [
    "X_train, X_test, y_train, y_test = train_test_split(X_svm, y_svm, test_size = 0.30)"
   ]
  },
  {
   "cell_type": "code",
   "execution_count": 48,
   "metadata": {},
   "outputs": [
    {
     "data": {
      "text/plain": [
       "SVC(C=100.0, gamma=0.001)"
      ]
     },
     "execution_count": 48,
     "metadata": {},
     "output_type": "execute_result"
    }
   ],
   "source": [
    "clf_svm.fit(X_train,y_train)"
   ]
  },
  {
   "cell_type": "code",
   "execution_count": 49,
   "metadata": {},
   "outputs": [],
   "source": [
    "saida_train_svm = clf_svm.predict(X_test)"
   ]
  },
  {
   "cell_type": "code",
   "execution_count": 50,
   "metadata": {},
   "outputs": [
    {
     "name": "stdout",
     "output_type": "stream",
     "text": [
      "Acurácia: 0.59 precisão\n"
     ]
    }
   ],
   "source": [
    "acuracia_svm = accuracy_score(y_test, saida_train_svm)\n",
    "print('Acurácia: %0.2f precisão' % acuracia_svm)"
   ]
  },
  {
   "cell_type": "code",
   "execution_count": 51,
   "metadata": {},
   "outputs": [],
   "source": [
    "#---------------------------------\n",
    "#2 - ATV"
   ]
  },
  {
   "cell_type": "code",
   "execution_count": 52,
   "metadata": {},
   "outputs": [],
   "source": [
    "scores_svm = cross_val_score(clf_svm, X_svm, y_svm, cv=10)"
   ]
  },
  {
   "cell_type": "code",
   "execution_count": 53,
   "metadata": {},
   "outputs": [
    {
     "name": "stdout",
     "output_type": "stream",
     "text": [
      "Acuracia: 0.58 precisão com um desvio padrão de 0.02\n"
     ]
    }
   ],
   "source": [
    "print(\"Acuracia: %0.2f precisão com um desvio padrão de %0.2f\" % (scores_svm.mean(), scores_svm.std()))"
   ]
  },
  {
   "cell_type": "code",
   "execution_count": 54,
   "metadata": {},
   "outputs": [],
   "source": [
    "#-------------------------------------------\n",
    "#3 - ATV"
   ]
  },
  {
   "cell_type": "code",
   "execution_count": 55,
   "metadata": {},
   "outputs": [],
   "source": [
    "#Decision Trees\n",
    "i_tree = 1\n",
    "vt_tree=[]\n",
    "while i_tree <= 20:\n",
    "    \n",
    "    dados_ramdom = dados2.sample(frac =1)\n",
    "    \n",
    "    y_tree = dados_ramdom['Potability']\n",
    "    X_tree = dados_ramdom.drop(columns='Potability')\n",
    "    \n",
    "    \n",
    "    X_train, X_test, y_train, y_test = train_test_split(X_tree, y_tree, test_size = 0.30)\n",
    "    \n",
    "    clf_tree = tree.DecisionTreeClassifier()\n",
    "    \n",
    "    clf_tree = clf_tree.fit(X_train, y_train)\n",
    "    \n",
    "    scores_tree = clf_tree.predict(X_test)\n",
    "    \n",
    "    scores_tree = cross_val_score(clf_tree, X_tree, y_tree, cv=10)\n",
    "    \n",
    "    vt_tree.append(scores_tree.mean())\n",
    "    \n",
    "    i_tree += 1"
   ]
  },
  {
   "cell_type": "code",
   "execution_count": 56,
   "metadata": {},
   "outputs": [
    {
     "data": {
      "text/plain": [
       "[0.5436581636458566,\n",
       " 0.539656522712016,\n",
       " 0.5284170582531514,\n",
       " 0.5384519280972626,\n",
       " 0.5348073767434921,\n",
       " 0.5399884388752144,\n",
       " 0.5473260237189528,\n",
       " 0.547914335794734,\n",
       " 0.5332643395241291,\n",
       " 0.5424386514507347,\n",
       " 0.5268740210337883,\n",
       " 0.5338815544118745,\n",
       " 0.5417897367047064,\n",
       " 0.5433448944581188,\n",
       " 0.534798985604535,\n",
       " 0.5464104572238384,\n",
       " 0.5369480495263669,\n",
       " 0.5353900947266352,\n",
       " 0.5409012083240098,\n",
       " 0.5448664876557022]"
      ]
     },
     "execution_count": 56,
     "metadata": {},
     "output_type": "execute_result"
    }
   ],
   "source": [
    "vt_tree"
   ]
  },
  {
   "cell_type": "code",
   "execution_count": 57,
   "metadata": {},
   "outputs": [],
   "source": [
    "#----------------------------------------------"
   ]
  },
  {
   "cell_type": "code",
   "execution_count": 58,
   "metadata": {},
   "outputs": [],
   "source": [
    "#Nearest Neighbors\n",
    "i_knn = 1\n",
    "vt_knn=[]\n",
    "while i_knn <= 20:\n",
    "    \n",
    "    dados_ramdom = dados2.sample(frac =1)\n",
    "    \n",
    "    y_knn = dados_ramdom['Potability']\n",
    "    X_knn = dados_ramdom.drop(columns='Potability')\n",
    "    \n",
    "    X_train, X_test, y_train, y_test = train_test_split(X_knn, y_knn, test_size = 0.30)\n",
    "    \n",
    "    knn = NearestCentroid()\n",
    "    \n",
    "    knn = knn.fit(X_train, y_train)\n",
    "    \n",
    "    scores_knn = knn.predict(X_test)\n",
    "    \n",
    "    scores_knn = cross_val_score(knn, X_knn, y_knn, cv=10)\n",
    "    \n",
    "    vt_knn.append(scores_knn.mean())\n",
    "    \n",
    "    i_knn += 1"
   ]
  },
  {
   "cell_type": "code",
   "execution_count": 59,
   "metadata": {},
   "outputs": [
    {
     "data": {
      "text/plain": [
       "[0.5201396658461998,\n",
       " 0.5198413142388304,\n",
       " 0.5204454762437531,\n",
       " 0.5207727306630866,\n",
       " 0.5204454762437533,\n",
       " 0.5198403818900574,\n",
       " 0.5210524352949952,\n",
       " 0.5207522189900798,\n",
       " 0.5210524352949951,\n",
       " 0.5204622585216678,\n",
       " 0.5198459759826957,\n",
       " 0.5192408816289997,\n",
       " 0.5198198702170508,\n",
       " 0.5201359364511077,\n",
       " 0.5207512866413068,\n",
       " 0.5192240993510853,\n",
       " 0.5192278287461775,\n",
       " 0.5195569478630567,\n",
       " 0.5192380845826807,\n",
       " 0.5192520698142762]"
      ]
     },
     "execution_count": 59,
     "metadata": {},
     "output_type": "execute_result"
    }
   ],
   "source": [
    "vt_knn"
   ]
  },
  {
   "cell_type": "code",
   "execution_count": 60,
   "metadata": {},
   "outputs": [],
   "source": [
    "#----------------------------------------------"
   ]
  },
  {
   "cell_type": "code",
   "execution_count": 61,
   "metadata": {},
   "outputs": [
    {
     "name": "stdout",
     "output_type": "stream",
     "text": [
      "Estatistica=0.000, p=0.000\n",
      "Distribuição diferente (rejeitar H0)\n"
     ]
    }
   ],
   "source": [
    "#Wilcoxon Signed-Rank Test\n",
    "\n",
    "stat, p = wilcoxon(vt_tree, vt_knn)\n",
    "print('Estatistica=%.3f, p=%.3f' % (stat, p))\n",
    "alpha = 0.05\n",
    "if p > alpha:\n",
    "    print('Mesmas distribuições (falha ao rejeitar H0)')\n",
    "else:\n",
    "    print('Distribuição diferente (rejeitar H0)')"
   ]
  },
  {
   "cell_type": "code",
   "execution_count": 62,
   "metadata": {},
   "outputs": [
    {
     "name": "stdout",
     "output_type": "stream",
     "text": [
      "Estatistica=40.00, p=0.00\n",
      "Distribuição diferente (rejeitar H0)\n"
     ]
    }
   ],
   "source": [
    "#friedman test\n",
    "\n",
    "stat, p = friedmanchisquare(vt_tree, vt_knn, vt_knn)\n",
    "print('Estatistica=%.2f, p=%.2f' % (stat, p))\n",
    "alpha = 0.05\n",
    "if p > alpha:\n",
    "\tprint('Mesmas distribuições (falha ao rejeitar H0)')\n",
    "else:\n",
    "\tprint('Distribuição diferente (rejeitar H0)')"
   ]
  },
  {
   "cell_type": "code",
   "execution_count": 63,
   "metadata": {
    "scrolled": true
   },
   "outputs": [
    {
     "name": "stdout",
     "output_type": "stream",
     "text": [
      "Accuracy: 0.547914, Decision Trees\n"
     ]
    }
   ],
   "source": [
    "aux_tree = 0\n",
    "aux_knn = 0\n",
    "x = 0;\n",
    "y = 0;\n",
    "\n",
    "while(x < len(vt_tree)):\n",
    "    if aux_tree < vt_tree[x]:\n",
    "        aux_tree = vt_tree[x]\n",
    "    x+=1\n",
    "\n",
    "while(y < len(vt_knn)):\n",
    "    if aux_knn < vt_knn[y]:\n",
    "        aux_knn = vt_knn[y]\n",
    "    y+=1    \n",
    "    \n",
    "if(aux_tree > aux_knn):\n",
    "    print('Accuracy: %f, Decision Trees' % (aux_tree))\n",
    "else:\n",
    "    print('Accuracy: %f, Nearest Neighbors' % (aux_knn))\n",
    "    "
   ]
  },
  {
   "cell_type": "code",
   "execution_count": 64,
   "metadata": {},
   "outputs": [],
   "source": [
    "#-----------------------------------------------\n",
    "#4- ATV"
   ]
  },
  {
   "cell_type": "code",
   "execution_count": 65,
   "metadata": {},
   "outputs": [],
   "source": [
    "y_atv_4 = dados_ramdom['Potability']\n",
    "X_atv_4 = dados_ramdom.drop(columns='Potability')"
   ]
  },
  {
   "cell_type": "code",
   "execution_count": 66,
   "metadata": {},
   "outputs": [],
   "source": [
    "clf_lg = LogisticRegression(random_state=1)\n",
    "clf_knn = NearestCentroid()\n",
    "clf_gnb = GaussianNB()"
   ]
  },
  {
   "cell_type": "code",
   "execution_count": 67,
   "metadata": {},
   "outputs": [],
   "source": [
    "eclf_atv_4 = VotingClassifier( estimators=[('lr', clf_lg), ('k-nn', clf_knn), ('gnb', clf_gnb)], voting='hard')"
   ]
  },
  {
   "cell_type": "code",
   "execution_count": 68,
   "metadata": {},
   "outputs": [
    {
     "name": "stdout",
     "output_type": "stream",
     "text": [
      "Accuracy: 0.609585 (+/- 0.00) [Logistic Regression]\n",
      "Accuracy: 0.519533 (+/- 0.03) [K-Nearest Neighbors]\n",
      "Accuracy: 0.610190 (+/- 0.01) [naive Bayes]\n",
      "Accuracy: 0.610802 (+/- 0.01) [Ensemble]\n"
     ]
    }
   ],
   "source": [
    "for clf, label in zip([clf_lg, clf_knn, clf_gnb, eclf_atv_4], ['Logistic Regression', 'K-Nearest Neighbors', 'naive Bayes', 'Ensemble']):\n",
    "    scores = cross_val_score(clf, X_atv_4, y_atv_4, scoring='accuracy', cv=5)\n",
    "    print(\"Accuracy: %f (+/- %0.2f) [%s]\" % (scores.mean(), scores.std(), label))"
   ]
  },
  {
   "cell_type": "code",
   "execution_count": 69,
   "metadata": {},
   "outputs": [],
   "source": [
    "#-----------------------------------------------"
   ]
  },
  {
   "cell_type": "code",
   "execution_count": 70,
   "metadata": {},
   "outputs": [
    {
     "data": {
      "text/plain": [
       "0.6095848072984547"
      ]
     },
     "execution_count": 70,
     "metadata": {},
     "output_type": "execute_result"
    }
   ],
   "source": [
    "#Logistic Regression\n",
    "clf_lg = LogisticRegression(random_state=1)\n",
    "\n",
    "X_train, X_test, y_train, y_test = train_test_split(X_knn, y_knn, test_size = 0.30)\n",
    "    \n",
    "clf_lg = clf_lg.fit(X_train, y_train)\n",
    "    \n",
    "scores_lg = clf_lg.predict(X_test)\n",
    "    \n",
    "scores_lg = cross_val_score(clf_lg, X_atv_4, y_atv_4, cv=5)\n",
    "    \n",
    "scores_lg.mean()"
   ]
  },
  {
   "cell_type": "code",
   "execution_count": null,
   "metadata": {},
   "outputs": [],
   "source": []
  }
 ],
 "metadata": {
  "kernelspec": {
   "display_name": "Python 3",
   "language": "python",
   "name": "python3"
  },
  "language_info": {
   "codemirror_mode": {
    "name": "ipython",
    "version": 3
   },
   "file_extension": ".py",
   "mimetype": "text/x-python",
   "name": "python",
   "nbconvert_exporter": "python",
   "pygments_lexer": "ipython3",
   "version": "3.9.0"
  }
 },
 "nbformat": 4,
 "nbformat_minor": 4
}
