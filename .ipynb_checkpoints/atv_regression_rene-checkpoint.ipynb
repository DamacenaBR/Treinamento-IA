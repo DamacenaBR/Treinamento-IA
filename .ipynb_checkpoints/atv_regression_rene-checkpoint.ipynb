{
 "cells": [
  {
   "cell_type": "code",
   "execution_count": 1,
   "metadata": {},
   "outputs": [],
   "source": [
    "import numpy as np\n",
    "import matplotlib.pyplot as plt\n",
    "import pandas as pd\n",
    "from sklearn.linear_model import LinearRegression\n",
    "from sklearn.svm import SVR\n",
    "from sklearn.tree import DecisionTreeRegressor\n",
    "from sklearn.metrics import r2_score"
   ]
  },
  {
   "cell_type": "code",
   "execution_count": 2,
   "metadata": {},
   "outputs": [],
   "source": [
    "data = pd.read_csv('C:\\\\Users\\\\bruno\\\\IA\\\\data consolidada\\\\vacinaBrasil.csv')"
   ]
  },
  {
   "cell_type": "code",
   "execution_count": 3,
   "metadata": {},
   "outputs": [
    {
     "data": {
      "text/html": [
       "<div>\n",
       "<style scoped>\n",
       "    .dataframe tbody tr th:only-of-type {\n",
       "        vertical-align: middle;\n",
       "    }\n",
       "\n",
       "    .dataframe tbody tr th {\n",
       "        vertical-align: top;\n",
       "    }\n",
       "\n",
       "    .dataframe thead th {\n",
       "        text-align: right;\n",
       "    }\n",
       "</style>\n",
       "<table border=\"1\" class=\"dataframe\">\n",
       "  <thead>\n",
       "    <tr style=\"text-align: right;\">\n",
       "      <th></th>\n",
       "      <th>0.01</th>\n",
       "    </tr>\n",
       "  </thead>\n",
       "  <tbody>\n",
       "    <tr>\n",
       "      <th>0</th>\n",
       "      <td>0.01</td>\n",
       "    </tr>\n",
       "    <tr>\n",
       "      <th>1</th>\n",
       "      <td>0.06</td>\n",
       "    </tr>\n",
       "    <tr>\n",
       "      <th>2</th>\n",
       "      <td>0.12</td>\n",
       "    </tr>\n",
       "    <tr>\n",
       "      <th>3</th>\n",
       "      <td>0.25</td>\n",
       "    </tr>\n",
       "    <tr>\n",
       "      <th>4</th>\n",
       "      <td>0.28</td>\n",
       "    </tr>\n",
       "    <tr>\n",
       "      <th>...</th>\n",
       "      <td>...</td>\n",
       "    </tr>\n",
       "    <tr>\n",
       "      <th>113</th>\n",
       "      <td>20.97</td>\n",
       "    </tr>\n",
       "    <tr>\n",
       "      <th>114</th>\n",
       "      <td>21.15</td>\n",
       "    </tr>\n",
       "    <tr>\n",
       "      <th>115</th>\n",
       "      <td>21.21</td>\n",
       "    </tr>\n",
       "    <tr>\n",
       "      <th>116</th>\n",
       "      <td>21.35</td>\n",
       "    </tr>\n",
       "    <tr>\n",
       "      <th>117</th>\n",
       "      <td>21.61</td>\n",
       "    </tr>\n",
       "  </tbody>\n",
       "</table>\n",
       "<p>118 rows × 1 columns</p>\n",
       "</div>"
      ],
      "text/plain": [
       "      0.01\n",
       "0     0.01\n",
       "1     0.06\n",
       "2     0.12\n",
       "3     0.25\n",
       "4     0.28\n",
       "..     ...\n",
       "113  20.97\n",
       "114  21.15\n",
       "115  21.21\n",
       "116  21.35\n",
       "117  21.61\n",
       "\n",
       "[118 rows x 1 columns]"
      ]
     },
     "execution_count": 3,
     "metadata": {},
     "output_type": "execute_result"
    }
   ],
   "source": [
    "#percentual de vacinados diário\n",
    "data"
   ]
  },
  {
   "cell_type": "code",
   "execution_count": 4,
   "metadata": {},
   "outputs": [],
   "source": [
    "a = pd.Series(range(1,119))\n",
    "dias = pd.DataFrame(a)\n",
    "#dias"
   ]
  },
  {
   "cell_type": "code",
   "execution_count": 5,
   "metadata": {},
   "outputs": [],
   "source": [
    "X = dias.values.reshape(-1, 1)\n",
    "y = data.values.reshape(-1,1)"
   ]
  },
  {
   "cell_type": "code",
   "execution_count": 6,
   "metadata": {},
   "outputs": [
    {
     "data": {
      "text/plain": [
       "LinearRegression()"
      ]
     },
     "execution_count": 6,
     "metadata": {},
     "output_type": "execute_result"
    }
   ],
   "source": [
    "linearReg = LinearRegression()\n",
    "linearReg.fit(X, y) "
   ]
  },
  {
   "cell_type": "code",
   "execution_count": 7,
   "metadata": {},
   "outputs": [
    {
     "data": {
      "text/html": [
       "<div>\n",
       "<style scoped>\n",
       "    .dataframe tbody tr th:only-of-type {\n",
       "        vertical-align: middle;\n",
       "    }\n",
       "\n",
       "    .dataframe tbody tr th {\n",
       "        vertical-align: top;\n",
       "    }\n",
       "\n",
       "    .dataframe thead th {\n",
       "        text-align: right;\n",
       "    }\n",
       "</style>\n",
       "<table border=\"1\" class=\"dataframe\">\n",
       "  <thead>\n",
       "    <tr style=\"text-align: right;\">\n",
       "      <th></th>\n",
       "      <th>0</th>\n",
       "    </tr>\n",
       "  </thead>\n",
       "  <tbody>\n",
       "    <tr>\n",
       "      <th>0</th>\n",
       "      <td>-2.643932</td>\n",
       "    </tr>\n",
       "    <tr>\n",
       "      <th>1</th>\n",
       "      <td>-2.464905</td>\n",
       "    </tr>\n",
       "    <tr>\n",
       "      <th>2</th>\n",
       "      <td>-2.285878</td>\n",
       "    </tr>\n",
       "    <tr>\n",
       "      <th>3</th>\n",
       "      <td>-2.106851</td>\n",
       "    </tr>\n",
       "    <tr>\n",
       "      <th>4</th>\n",
       "      <td>-1.927824</td>\n",
       "    </tr>\n",
       "    <tr>\n",
       "      <th>...</th>\n",
       "      <td>...</td>\n",
       "    </tr>\n",
       "    <tr>\n",
       "      <th>113</th>\n",
       "      <td>17.586129</td>\n",
       "    </tr>\n",
       "    <tr>\n",
       "      <th>114</th>\n",
       "      <td>17.765156</td>\n",
       "    </tr>\n",
       "    <tr>\n",
       "      <th>115</th>\n",
       "      <td>17.944183</td>\n",
       "    </tr>\n",
       "    <tr>\n",
       "      <th>116</th>\n",
       "      <td>18.123210</td>\n",
       "    </tr>\n",
       "    <tr>\n",
       "      <th>117</th>\n",
       "      <td>18.302238</td>\n",
       "    </tr>\n",
       "  </tbody>\n",
       "</table>\n",
       "<p>118 rows × 1 columns</p>\n",
       "</div>"
      ],
      "text/plain": [
       "             0\n",
       "0    -2.643932\n",
       "1    -2.464905\n",
       "2    -2.285878\n",
       "3    -2.106851\n",
       "4    -1.927824\n",
       "..         ...\n",
       "113  17.586129\n",
       "114  17.765156\n",
       "115  17.944183\n",
       "116  18.123210\n",
       "117  18.302238\n",
       "\n",
       "[118 rows x 1 columns]"
      ]
     },
     "execution_count": 7,
     "metadata": {},
     "output_type": "execute_result"
    }
   ],
   "source": [
    "novosDias = pd.Series(range(1,119))\n",
    "novosDias = pd.DataFrame(novosDias)\n",
    "\n",
    "resultLinearRegressor = linearReg.predict(novosDias)\n",
    "cotacaoArtificiais = pd.DataFrame(resultLinearRegressor)\n",
    "cotacaoArtificiais\n",
    "#dias.values.reshape(-1, 1)"
   ]
  },
  {
   "cell_type": "code",
   "execution_count": 8,
   "metadata": {},
   "outputs": [
    {
     "data": {
      "text/plain": [
       "<AxesSubplot:>"
      ]
     },
     "execution_count": 8,
     "metadata": {},
     "output_type": "execute_result"
    },
    {
     "data": {
      "image/png": "[encoded data removed]",
      "text/plain": [
       "<Figure size 432x288 with 1 Axes>"
      ]
     },
     "metadata": {
      "needs_background": "light"
     },
     "output_type": "display_data"
    }
   ],
   "source": [
    "cotacaoArtificiais.plot()"
   ]
  },
  {
   "cell_type": "code",
   "execution_count": 9,
   "metadata": {},
   "outputs": [
    {
     "data": {
      "text/plain": [
       "<AxesSubplot:>"
      ]
     },
     "execution_count": 9,
     "metadata": {},
     "output_type": "execute_result"
    },
    {
     "data": {
      "image/png": "[encoded data removed]",
      "text/plain": [
       "<Figure size 432x288 with 1 Axes>"
      ]
     },
     "metadata": {
      "needs_background": "light"
     },
     "output_type": "display_data"
    }
   ],
   "source": [
    "data.plot()"
   ]
  },
  {
   "cell_type": "code",
   "execution_count": 10,
   "metadata": {},
   "outputs": [
    {
     "data": {
      "text/plain": [
       "array([[29.04386325]])"
      ]
     },
     "execution_count": 10,
     "metadata": {},
     "output_type": "execute_result"
    }
   ],
   "source": [
    "linearReg.predict([[178]])"
   ]
  },
  {
   "cell_type": "code",
   "execution_count": 11,
   "metadata": {},
   "outputs": [
    {
     "data": {
      "text/plain": [
       "SVR(degree=2, kernel='poly')"
      ]
     },
     "execution_count": 11,
     "metadata": {},
     "output_type": "execute_result"
    }
   ],
   "source": [
    "#------------------------------------------------------\n",
    "svrRegressor = SVR(kernel='poly', degree=2)\n",
    "svrRegressor.fit(X, y.ravel())"
   ]
  },
  {
   "cell_type": "code",
   "execution_count": 12,
   "metadata": {},
   "outputs": [
    {
     "data": {
      "text/plain": [
       "array([ 0.72638001,  0.73087818,  0.73837513,  0.74887085,  0.76236535,\n",
       "        0.77885863,  0.79835069,  0.82084153,  0.84633114,  0.87481954,\n",
       "        0.90630671,  0.94079266,  0.97827738,  1.01876089,  1.06224317,\n",
       "        1.10872424,  1.15820408,  1.21068269,  1.26616009,  1.32463627,\n",
       "        1.38611122,  1.45058495,  1.51805746,  1.58852875,  1.66199881,\n",
       "        1.73846766,  1.81793528,  1.90040168,  1.98586686,  2.07433082,\n",
       "        2.16579355,  2.26025507,  2.35771536,  2.45817443,  2.56163228,\n",
       "        2.6680889 ,  2.77754431,  2.88999849,  3.00545145,  3.12390319,\n",
       "        3.24535371,  3.369803  ,  3.49725107,  3.62769793,  3.76114356,\n",
       "        3.89758797,  4.03703115,  4.17947312,  4.32491386,  4.47335338,\n",
       "        4.62479168,  4.77922876,  4.93666461,  5.09709925,  5.26053266,\n",
       "        5.42696485,  5.59639582,  5.76882556,  5.94425409,  6.12268139,\n",
       "        6.30410747,  6.48853233,  6.67595597,  6.86637839,  7.05979958,\n",
       "        7.25621955,  7.4556383 ,  7.65805583,  7.86347214,  8.07188722,\n",
       "        8.28330109,  8.49771373,  8.71512515,  8.93553535,  9.15894432,\n",
       "        9.38535208,  9.61475861,  9.84716392, 10.08256801, 10.32097088,\n",
       "       10.56237252, 10.80677295, 11.05417215, 11.30457013, 11.55796689,\n",
       "       11.81436242, 12.07375674, 12.33614983, 12.6015417 , 12.86993235,\n",
       "       13.14132178, 13.41570998, 13.69309697, 13.97348273, 14.25686727,\n",
       "       14.54325059, 14.83263268, 15.12501356, 15.42039321, 15.71877164,\n",
       "       16.02014885, 16.32452484, 16.63189961, 16.94227315, 17.25564547,\n",
       "       17.57201657, 17.89138645, 18.21375511, 18.53912254, 18.86748876,\n",
       "       19.19885375, 19.53321752, 19.87058007, 20.21094139, 20.5543015 ,\n",
       "       20.90066038, 21.25001804, 21.60237448])"
      ]
     },
     "execution_count": 12,
     "metadata": {},
     "output_type": "execute_result"
    }
   ],
   "source": [
    "resultSvrRegressor = svrRegressor.predict(novosDias)\n",
    "resultSvrRegressor"
   ]
  },
  {
   "cell_type": "code",
   "execution_count": 13,
   "metadata": {},
   "outputs": [
    {
     "data": {
      "text/plain": [
       "<AxesSubplot:>"
      ]
     },
     "execution_count": 13,
     "metadata": {},
     "output_type": "execute_result"
    },
    {
     "data": {
      "image/png": "[encoded data removed]",
      "text/plain": [
       "<Figure size 432x288 with 1 Axes>"
      ]
     },
     "metadata": {
      "needs_background": "light"
     },
     "output_type": "display_data"
    }
   ],
   "source": [
    "graphicResultSvr = pd.DataFrame(resultSvrRegressor)\n",
    "graphicResultSvr.plot()"
   ]
  },
  {
   "cell_type": "code",
   "execution_count": 14,
   "metadata": {},
   "outputs": [
    {
     "data": {
      "text/plain": [
       "array([48.23152493])"
      ]
     },
     "execution_count": 14,
     "metadata": {},
     "output_type": "execute_result"
    }
   ],
   "source": [
    "svrRegressor.predict([[178]])"
   ]
  },
  {
   "cell_type": "code",
   "execution_count": 15,
   "metadata": {},
   "outputs": [
    {
     "data": {
      "text/plain": [
       "DecisionTreeRegressor(criterion='mae', max_depth=7)"
      ]
     },
     "execution_count": 15,
     "metadata": {},
     "output_type": "execute_result"
    }
   ],
   "source": [
    "#-----------------------------------------------------------------\n",
    "treeRegressor = DecisionTreeRegressor(max_depth=7, criterion='mae')\n",
    "treeRegressor.fit(X, y)"
   ]
  },
  {
   "cell_type": "code",
   "execution_count": 16,
   "metadata": {},
   "outputs": [
    {
     "data": {
      "text/plain": [
       "array([ 0.035,  0.035,  0.12 ,  0.28 ,  0.28 ,  0.28 ,  0.4  ,  0.53 ,\n",
       "        0.68 ,  0.78 ,  0.91 ,  0.975,  0.975,  1.08 ,  1.19 ,  1.45 ,\n",
       "        1.45 ,  1.67 ,  1.67 ,  1.67 ,  1.67 ,  1.91 ,  2.04 ,  2.16 ,\n",
       "        2.37 ,  2.37 ,  2.37 ,  2.545,  2.545,  2.545,  2.545,  2.74 ,\n",
       "        2.74 ,  2.74 ,  2.85 ,  2.85 ,  3.03 ,  3.03 ,  3.03 ,  3.03 ,\n",
       "        3.03 ,  3.2  ,  3.35 ,  3.49 ,  3.655,  3.655,  3.81 ,  4.   ,\n",
       "        4.   ,  4.   ,  4.2  ,  4.45 ,  4.57 ,  4.69 ,  4.765,  4.765,\n",
       "        4.99 ,  5.44 ,  5.72 ,  5.95 ,  6.14 ,  6.39 ,  6.39 ,  6.61 ,\n",
       "        6.61 ,  7.02 ,  7.57 ,  7.7  ,  7.75 ,  8.06 ,  8.37 ,  8.87 ,\n",
       "        9.12 ,  9.36 ,  9.65 ,  9.72 ,  9.92 , 11.1  , 11.42 , 11.42 ,\n",
       "       11.67 , 11.67 , 11.67 , 11.92 , 12.42 , 12.56 , 12.64 , 12.87 ,\n",
       "       13.14 , 13.32 , 13.54 , 13.8  , 13.8  , 13.8  , 14.05 , 14.42 ,\n",
       "       14.71 , 14.82 , 14.92 , 15.1  , 15.36 , 15.68 , 16.04 , 16.65 ,\n",
       "       16.825, 16.825, 17.1  , 17.33 , 17.58 , 17.85 , 20.09 , 20.34 ,\n",
       "       20.57 , 20.97 , 21.18 , 21.18 , 21.35 , 21.61 ])"
      ]
     },
     "execution_count": 16,
     "metadata": {},
     "output_type": "execute_result"
    }
   ],
   "source": [
    "resultTreeRegressor = treeRegressor.predict(novosDias)\n",
    "resultTreeRegressor"
   ]
  },
  {
   "cell_type": "code",
   "execution_count": 17,
   "metadata": {},
   "outputs": [
    {
     "data": {
      "text/plain": [
       "<AxesSubplot:>"
      ]
     },
     "execution_count": 17,
     "metadata": {},
     "output_type": "execute_result"
    },
    {
     "data": {
      "image/png": "[encoded data removed]",
      "text/plain": [
       "<Figure size 432x288 with 1 Axes>"
      ]
     },
     "metadata": {
      "needs_background": "light"
     },
     "output_type": "display_data"
    }
   ],
   "source": [
    "graphicResultTree = pd.DataFrame(resultTreeRegressor)\n",
    "graphicResultTree.plot()"
   ]
  },
  {
   "cell_type": "code",
   "execution_count": 18,
   "metadata": {},
   "outputs": [
    {
     "data": {
      "text/plain": [
       "array([21.61])"
      ]
     },
     "execution_count": 18,
     "metadata": {},
     "output_type": "execute_result"
    }
   ],
   "source": [
    "treeRegressor.predict([[178]])"
   ]
  },
  {
   "cell_type": "code",
   "execution_count": 19,
   "metadata": {},
   "outputs": [
    {
     "data": {
      "text/plain": [
       "0.9386187898221501"
      ]
     },
     "execution_count": 19,
     "metadata": {},
     "output_type": "execute_result"
    }
   ],
   "source": [
    "#----------------------------------------------------------\n",
    "linearRegressionR2 = r2_score(y, resultLinearRegressor)\n",
    "linearRegressionR2"
   ]
  },
  {
   "cell_type": "code",
   "execution_count": 20,
   "metadata": {},
   "outputs": [
    {
     "data": {
      "text/plain": [
       "0.9999802887815018"
      ]
     },
     "execution_count": 20,
     "metadata": {},
     "output_type": "execute_result"
    }
   ],
   "source": [
    "treeRegressorR2 = r2_score(y, resultTreeRegressor)\n",
    "treeRegressorR2"
   ]
  },
  {
   "cell_type": "code",
   "execution_count": 21,
   "metadata": {},
   "outputs": [
    {
     "data": {
      "text/plain": [
       "0.9936376025602507"
      ]
     },
     "execution_count": 21,
     "metadata": {},
     "output_type": "execute_result"
    }
   ],
   "source": [
    "svmRegressorR2 = r2_score(y, resultSvrRegressor)\n",
    "svmRegressorR2"
   ]
  },
  {
   "cell_type": "code",
   "execution_count": null,
   "metadata": {},
   "outputs": [],
   "source": []
  }
 ],
 "metadata": {
  "kernelspec": {
   "display_name": "Python 3",
   "language": "python",
   "name": "python3"
  },
  "language_info": {
   "codemirror_mode": {
    "name": "ipython",
    "version": 3
   },
   "file_extension": ".py",
   "mimetype": "text/x-python",
   "name": "python",
   "nbconvert_exporter": "python",
   "pygments_lexer": "ipython3",
   "version": "3.9.0"
  }
 },
 "nbformat": 4,
 "nbformat_minor": 4
}
